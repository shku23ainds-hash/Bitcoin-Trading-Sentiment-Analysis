{
  "nbformat": 4,
  "nbformat_minor": 0,
  "metadata": {
    "colab": {
      "provenance": [],
      "authorship_tag": "ABX9TyNq0F91W/Sn7XOXpqc5Ai6t",
      "include_colab_link": true
    },
    "kernelspec": {
      "name": "python3",
      "display_name": "Python 3"
    },
    "language_info": {
      "name": "python"
    }
  },
  "cells": [
    {
      "cell_type": "markdown",
      "metadata": {
        "id": "view-in-github",
        "colab_type": "text"
      },
      "source": [
        "<a href=\"https://colab.research.google.com/github/shku23ainds-hash/Bitcoin-Trading-Sentiment-Analysis/blob/main/Trader_Sentiment_Analysis.ipynb\" target=\"_parent\"><img src=\"https://colab.research.google.com/assets/colab-badge.svg\" alt=\"Open In Colab\"/></a>"
      ]
    },
    {
      "cell_type": "markdown",
      "source": [
        "# 🧠 Trader Behavior & Market Sentiment Analysis\n",
        "\n",
        "**Objective:**  \n",
        "Analyze the relationship between market sentiment (Fear/Greed) and trading behavior using historical trader data and the Crypto Fear & Greed Index."
      ],
      "metadata": {
        "id": "E7tkshBLcVaL"
      }
    },
    {
      "cell_type": "markdown",
      "source": [
        "**Prepared by:**  Shilpi Kumari\n",
        "\n",
        "**Date:** July 27, 2025  \n",
        "**Role:** Junior Data Scientist Application – Bajrangs x PrimeTrade.AIt*"
      ],
      "metadata": {
        "id": "nTcBy3_ecTvT"
      }
    },
    {
      "cell_type": "code",
      "source": [
        "from google.colab import files\n",
        "\n",
        "# Upload your files\n",
        "uploaded = files.upload()\n",
        "\n"
      ],
      "metadata": {
        "colab": {
          "base_uri": "https://localhost:8080/",
          "height": 73
        },
        "id": "f8tCvLxMY_E7",
        "outputId": "68db3453-a435-4a3b-9733-75a217566382"
      },
      "execution_count": 4,
      "outputs": [
        {
          "output_type": "display_data",
          "data": {
            "text/plain": [
              "<IPython.core.display.HTML object>"
            ],
            "text/html": [
              "\n",
              "     <input type=\"file\" id=\"files-2b3828d8-88ab-4774-9e05-dbf9a89ec7da\" name=\"files[]\" multiple disabled\n",
              "        style=\"border:none\" />\n",
              "     <output id=\"result-2b3828d8-88ab-4774-9e05-dbf9a89ec7da\">\n",
              "      Upload widget is only available when the cell has been executed in the\n",
              "      current browser session. Please rerun this cell to enable.\n",
              "      </output>\n",
              "      <script>// Copyright 2017 Google LLC\n",
              "//\n",
              "// Licensed under the Apache License, Version 2.0 (the \"License\");\n",
              "// you may not use this file except in compliance with the License.\n",
              "// You may obtain a copy of the License at\n",
              "//\n",
              "//      http://www.apache.org/licenses/LICENSE-2.0\n",
              "//\n",
              "// Unless required by applicable law or agreed to in writing, software\n",
              "// distributed under the License is distributed on an \"AS IS\" BASIS,\n",
              "// WITHOUT WARRANTIES OR CONDITIONS OF ANY KIND, either express or implied.\n",
              "// See the License for the specific language governing permissions and\n",
              "// limitations under the License.\n",
              "\n",
              "/**\n",
              " * @fileoverview Helpers for google.colab Python module.\n",
              " */\n",
              "(function(scope) {\n",
              "function span(text, styleAttributes = {}) {\n",
              "  const element = document.createElement('span');\n",
              "  element.textContent = text;\n",
              "  for (const key of Object.keys(styleAttributes)) {\n",
              "    element.style[key] = styleAttributes[key];\n",
              "  }\n",
              "  return element;\n",
              "}\n",
              "\n",
              "// Max number of bytes which will be uploaded at a time.\n",
              "const MAX_PAYLOAD_SIZE = 100 * 1024;\n",
              "\n",
              "function _uploadFiles(inputId, outputId) {\n",
              "  const steps = uploadFilesStep(inputId, outputId);\n",
              "  const outputElement = document.getElementById(outputId);\n",
              "  // Cache steps on the outputElement to make it available for the next call\n",
              "  // to uploadFilesContinue from Python.\n",
              "  outputElement.steps = steps;\n",
              "\n",
              "  return _uploadFilesContinue(outputId);\n",
              "}\n",
              "\n",
              "// This is roughly an async generator (not supported in the browser yet),\n",
              "// where there are multiple asynchronous steps and the Python side is going\n",
              "// to poll for completion of each step.\n",
              "// This uses a Promise to block the python side on completion of each step,\n",
              "// then passes the result of the previous step as the input to the next step.\n",
              "function _uploadFilesContinue(outputId) {\n",
              "  const outputElement = document.getElementById(outputId);\n",
              "  const steps = outputElement.steps;\n",
              "\n",
              "  const next = steps.next(outputElement.lastPromiseValue);\n",
              "  return Promise.resolve(next.value.promise).then((value) => {\n",
              "    // Cache the last promise value to make it available to the next\n",
              "    // step of the generator.\n",
              "    outputElement.lastPromiseValue = value;\n",
              "    return next.value.response;\n",
              "  });\n",
              "}\n",
              "\n",
              "/**\n",
              " * Generator function which is called between each async step of the upload\n",
              " * process.\n",
              " * @param {string} inputId Element ID of the input file picker element.\n",
              " * @param {string} outputId Element ID of the output display.\n",
              " * @return {!Iterable<!Object>} Iterable of next steps.\n",
              " */\n",
              "function* uploadFilesStep(inputId, outputId) {\n",
              "  const inputElement = document.getElementById(inputId);\n",
              "  inputElement.disabled = false;\n",
              "\n",
              "  const outputElement = document.getElementById(outputId);\n",
              "  outputElement.innerHTML = '';\n",
              "\n",
              "  const pickedPromise = new Promise((resolve) => {\n",
              "    inputElement.addEventListener('change', (e) => {\n",
              "      resolve(e.target.files);\n",
              "    });\n",
              "  });\n",
              "\n",
              "  const cancel = document.createElement('button');\n",
              "  inputElement.parentElement.appendChild(cancel);\n",
              "  cancel.textContent = 'Cancel upload';\n",
              "  const cancelPromise = new Promise((resolve) => {\n",
              "    cancel.onclick = () => {\n",
              "      resolve(null);\n",
              "    };\n",
              "  });\n",
              "\n",
              "  // Wait for the user to pick the files.\n",
              "  const files = yield {\n",
              "    promise: Promise.race([pickedPromise, cancelPromise]),\n",
              "    response: {\n",
              "      action: 'starting',\n",
              "    }\n",
              "  };\n",
              "\n",
              "  cancel.remove();\n",
              "\n",
              "  // Disable the input element since further picks are not allowed.\n",
              "  inputElement.disabled = true;\n",
              "\n",
              "  if (!files) {\n",
              "    return {\n",
              "      response: {\n",
              "        action: 'complete',\n",
              "      }\n",
              "    };\n",
              "  }\n",
              "\n",
              "  for (const file of files) {\n",
              "    const li = document.createElement('li');\n",
              "    li.append(span(file.name, {fontWeight: 'bold'}));\n",
              "    li.append(span(\n",
              "        `(${file.type || 'n/a'}) - ${file.size} bytes, ` +\n",
              "        `last modified: ${\n",
              "            file.lastModifiedDate ? file.lastModifiedDate.toLocaleDateString() :\n",
              "                                    'n/a'} - `));\n",
              "    const percent = span('0% done');\n",
              "    li.appendChild(percent);\n",
              "\n",
              "    outputElement.appendChild(li);\n",
              "\n",
              "    const fileDataPromise = new Promise((resolve) => {\n",
              "      const reader = new FileReader();\n",
              "      reader.onload = (e) => {\n",
              "        resolve(e.target.result);\n",
              "      };\n",
              "      reader.readAsArrayBuffer(file);\n",
              "    });\n",
              "    // Wait for the data to be ready.\n",
              "    let fileData = yield {\n",
              "      promise: fileDataPromise,\n",
              "      response: {\n",
              "        action: 'continue',\n",
              "      }\n",
              "    };\n",
              "\n",
              "    // Use a chunked sending to avoid message size limits. See b/62115660.\n",
              "    let position = 0;\n",
              "    do {\n",
              "      const length = Math.min(fileData.byteLength - position, MAX_PAYLOAD_SIZE);\n",
              "      const chunk = new Uint8Array(fileData, position, length);\n",
              "      position += length;\n",
              "\n",
              "      const base64 = btoa(String.fromCharCode.apply(null, chunk));\n",
              "      yield {\n",
              "        response: {\n",
              "          action: 'append',\n",
              "          file: file.name,\n",
              "          data: base64,\n",
              "        },\n",
              "      };\n",
              "\n",
              "      let percentDone = fileData.byteLength === 0 ?\n",
              "          100 :\n",
              "          Math.round((position / fileData.byteLength) * 100);\n",
              "      percent.textContent = `${percentDone}% done`;\n",
              "\n",
              "    } while (position < fileData.byteLength);\n",
              "  }\n",
              "\n",
              "  // All done.\n",
              "  yield {\n",
              "    response: {\n",
              "      action: 'complete',\n",
              "    }\n",
              "  };\n",
              "}\n",
              "\n",
              "scope.google = scope.google || {};\n",
              "scope.google.colab = scope.google.colab || {};\n",
              "scope.google.colab._files = {\n",
              "  _uploadFiles,\n",
              "  _uploadFilesContinue,\n",
              "};\n",
              "})(self);\n",
              "</script> "
            ]
          },
          "metadata": {}
        },
        {
          "output_type": "stream",
          "name": "stdout",
          "text": [
            "Saving historical_data.csv to historical_data.csv\n"
          ]
        }
      ]
    },
    {
      "cell_type": "code",
      "source": [
        "from google.colab import files\n",
        "\n",
        "# Upload your files\n",
        "uploaded = files.upload()"
      ],
      "metadata": {
        "colab": {
          "base_uri": "https://localhost:8080/",
          "height": 73
        },
        "id": "Drdtjxe0Zzno",
        "outputId": "77fc1c38-b593-40bd-d55d-728ebc0b9b82"
      },
      "execution_count": 5,
      "outputs": [
        {
          "output_type": "display_data",
          "data": {
            "text/plain": [
              "<IPython.core.display.HTML object>"
            ],
            "text/html": [
              "\n",
              "     <input type=\"file\" id=\"files-28802883-d4a2-4c9b-b76a-fa65739449f0\" name=\"files[]\" multiple disabled\n",
              "        style=\"border:none\" />\n",
              "     <output id=\"result-28802883-d4a2-4c9b-b76a-fa65739449f0\">\n",
              "      Upload widget is only available when the cell has been executed in the\n",
              "      current browser session. Please rerun this cell to enable.\n",
              "      </output>\n",
              "      <script>// Copyright 2017 Google LLC\n",
              "//\n",
              "// Licensed under the Apache License, Version 2.0 (the \"License\");\n",
              "// you may not use this file except in compliance with the License.\n",
              "// You may obtain a copy of the License at\n",
              "//\n",
              "//      http://www.apache.org/licenses/LICENSE-2.0\n",
              "//\n",
              "// Unless required by applicable law or agreed to in writing, software\n",
              "// distributed under the License is distributed on an \"AS IS\" BASIS,\n",
              "// WITHOUT WARRANTIES OR CONDITIONS OF ANY KIND, either express or implied.\n",
              "// See the License for the specific language governing permissions and\n",
              "// limitations under the License.\n",
              "\n",
              "/**\n",
              " * @fileoverview Helpers for google.colab Python module.\n",
              " */\n",
              "(function(scope) {\n",
              "function span(text, styleAttributes = {}) {\n",
              "  const element = document.createElement('span');\n",
              "  element.textContent = text;\n",
              "  for (const key of Object.keys(styleAttributes)) {\n",
              "    element.style[key] = styleAttributes[key];\n",
              "  }\n",
              "  return element;\n",
              "}\n",
              "\n",
              "// Max number of bytes which will be uploaded at a time.\n",
              "const MAX_PAYLOAD_SIZE = 100 * 1024;\n",
              "\n",
              "function _uploadFiles(inputId, outputId) {\n",
              "  const steps = uploadFilesStep(inputId, outputId);\n",
              "  const outputElement = document.getElementById(outputId);\n",
              "  // Cache steps on the outputElement to make it available for the next call\n",
              "  // to uploadFilesContinue from Python.\n",
              "  outputElement.steps = steps;\n",
              "\n",
              "  return _uploadFilesContinue(outputId);\n",
              "}\n",
              "\n",
              "// This is roughly an async generator (not supported in the browser yet),\n",
              "// where there are multiple asynchronous steps and the Python side is going\n",
              "// to poll for completion of each step.\n",
              "// This uses a Promise to block the python side on completion of each step,\n",
              "// then passes the result of the previous step as the input to the next step.\n",
              "function _uploadFilesContinue(outputId) {\n",
              "  const outputElement = document.getElementById(outputId);\n",
              "  const steps = outputElement.steps;\n",
              "\n",
              "  const next = steps.next(outputElement.lastPromiseValue);\n",
              "  return Promise.resolve(next.value.promise).then((value) => {\n",
              "    // Cache the last promise value to make it available to the next\n",
              "    // step of the generator.\n",
              "    outputElement.lastPromiseValue = value;\n",
              "    return next.value.response;\n",
              "  });\n",
              "}\n",
              "\n",
              "/**\n",
              " * Generator function which is called between each async step of the upload\n",
              " * process.\n",
              " * @param {string} inputId Element ID of the input file picker element.\n",
              " * @param {string} outputId Element ID of the output display.\n",
              " * @return {!Iterable<!Object>} Iterable of next steps.\n",
              " */\n",
              "function* uploadFilesStep(inputId, outputId) {\n",
              "  const inputElement = document.getElementById(inputId);\n",
              "  inputElement.disabled = false;\n",
              "\n",
              "  const outputElement = document.getElementById(outputId);\n",
              "  outputElement.innerHTML = '';\n",
              "\n",
              "  const pickedPromise = new Promise((resolve) => {\n",
              "    inputElement.addEventListener('change', (e) => {\n",
              "      resolve(e.target.files);\n",
              "    });\n",
              "  });\n",
              "\n",
              "  const cancel = document.createElement('button');\n",
              "  inputElement.parentElement.appendChild(cancel);\n",
              "  cancel.textContent = 'Cancel upload';\n",
              "  const cancelPromise = new Promise((resolve) => {\n",
              "    cancel.onclick = () => {\n",
              "      resolve(null);\n",
              "    };\n",
              "  });\n",
              "\n",
              "  // Wait for the user to pick the files.\n",
              "  const files = yield {\n",
              "    promise: Promise.race([pickedPromise, cancelPromise]),\n",
              "    response: {\n",
              "      action: 'starting',\n",
              "    }\n",
              "  };\n",
              "\n",
              "  cancel.remove();\n",
              "\n",
              "  // Disable the input element since further picks are not allowed.\n",
              "  inputElement.disabled = true;\n",
              "\n",
              "  if (!files) {\n",
              "    return {\n",
              "      response: {\n",
              "        action: 'complete',\n",
              "      }\n",
              "    };\n",
              "  }\n",
              "\n",
              "  for (const file of files) {\n",
              "    const li = document.createElement('li');\n",
              "    li.append(span(file.name, {fontWeight: 'bold'}));\n",
              "    li.append(span(\n",
              "        `(${file.type || 'n/a'}) - ${file.size} bytes, ` +\n",
              "        `last modified: ${\n",
              "            file.lastModifiedDate ? file.lastModifiedDate.toLocaleDateString() :\n",
              "                                    'n/a'} - `));\n",
              "    const percent = span('0% done');\n",
              "    li.appendChild(percent);\n",
              "\n",
              "    outputElement.appendChild(li);\n",
              "\n",
              "    const fileDataPromise = new Promise((resolve) => {\n",
              "      const reader = new FileReader();\n",
              "      reader.onload = (e) => {\n",
              "        resolve(e.target.result);\n",
              "      };\n",
              "      reader.readAsArrayBuffer(file);\n",
              "    });\n",
              "    // Wait for the data to be ready.\n",
              "    let fileData = yield {\n",
              "      promise: fileDataPromise,\n",
              "      response: {\n",
              "        action: 'continue',\n",
              "      }\n",
              "    };\n",
              "\n",
              "    // Use a chunked sending to avoid message size limits. See b/62115660.\n",
              "    let position = 0;\n",
              "    do {\n",
              "      const length = Math.min(fileData.byteLength - position, MAX_PAYLOAD_SIZE);\n",
              "      const chunk = new Uint8Array(fileData, position, length);\n",
              "      position += length;\n",
              "\n",
              "      const base64 = btoa(String.fromCharCode.apply(null, chunk));\n",
              "      yield {\n",
              "        response: {\n",
              "          action: 'append',\n",
              "          file: file.name,\n",
              "          data: base64,\n",
              "        },\n",
              "      };\n",
              "\n",
              "      let percentDone = fileData.byteLength === 0 ?\n",
              "          100 :\n",
              "          Math.round((position / fileData.byteLength) * 100);\n",
              "      percent.textContent = `${percentDone}% done`;\n",
              "\n",
              "    } while (position < fileData.byteLength);\n",
              "  }\n",
              "\n",
              "  // All done.\n",
              "  yield {\n",
              "    response: {\n",
              "      action: 'complete',\n",
              "    }\n",
              "  };\n",
              "}\n",
              "\n",
              "scope.google = scope.google || {};\n",
              "scope.google.colab = scope.google.colab || {};\n",
              "scope.google.colab._files = {\n",
              "  _uploadFiles,\n",
              "  _uploadFilesContinue,\n",
              "};\n",
              "})(self);\n",
              "</script> "
            ]
          },
          "metadata": {}
        },
        {
          "output_type": "stream",
          "name": "stdout",
          "text": [
            "Saving fear_greed_index.csv to fear_greed_index.csv\n"
          ]
        }
      ]
    },
    {
      "cell_type": "code",
      "source": [
        "import pandas as pd\n",
        "\n",
        "# Load the trader data\n",
        "trader_df = pd.read_csv('historical_data.csv')\n",
        "print(\"Trader Data:\")\n",
        "print(trader_df.head())\n",
        "\n",
        "# Load the sentiment (Fear/Greed Index) data\n",
        "sentiment_df = pd.read_csv('fear_greed_index.csv')\n",
        "print(\"\\nSentiment Data:\")\n",
        "print(sentiment_df.head())\n"
      ],
      "metadata": {
        "colab": {
          "base_uri": "https://localhost:8080/"
        },
        "id": "a4PnRO9oalKM",
        "outputId": "5467ac5d-8434-4e20-a619-e2edd6fe44e6"
      },
      "execution_count": 6,
      "outputs": [
        {
          "output_type": "stream",
          "name": "stdout",
          "text": [
            "Trader Data:\n",
            "                                      Account  Coin  Execution Price  \\\n",
            "0  0xae5eacaf9c6b9111fd53034a602c192a04e082ed  @107           7.9769   \n",
            "1  0xae5eacaf9c6b9111fd53034a602c192a04e082ed  @107           7.9800   \n",
            "2  0xae5eacaf9c6b9111fd53034a602c192a04e082ed  @107           7.9855   \n",
            "3  0xae5eacaf9c6b9111fd53034a602c192a04e082ed  @107           7.9874   \n",
            "4  0xae5eacaf9c6b9111fd53034a602c192a04e082ed  @107           7.9894   \n",
            "\n",
            "   Size Tokens  Size USD Side     Timestamp IST  Start Position Direction  \\\n",
            "0       986.87   7872.16  BUY  02-12-2024 22:50        0.000000       Buy   \n",
            "1        16.00    127.68  BUY  02-12-2024 22:50      986.524596       Buy   \n",
            "2       144.09   1150.63  BUY  02-12-2024 22:50     1002.518996       Buy   \n",
            "3       142.98   1142.04  BUY  02-12-2024 22:50     1146.558564       Buy   \n",
            "4         8.73     69.75  BUY  02-12-2024 22:50     1289.488521       Buy   \n",
            "\n",
            "   Closed PnL                                   Transaction Hash     Order ID  \\\n",
            "0         0.0  0xec09451986a1874e3a980418412fcd0201f500c95bac...  52017706630   \n",
            "1         0.0  0xec09451986a1874e3a980418412fcd0201f500c95bac...  52017706630   \n",
            "2         0.0  0xec09451986a1874e3a980418412fcd0201f500c95bac...  52017706630   \n",
            "3         0.0  0xec09451986a1874e3a980418412fcd0201f500c95bac...  52017706630   \n",
            "4         0.0  0xec09451986a1874e3a980418412fcd0201f500c95bac...  52017706630   \n",
            "\n",
            "   Crossed       Fee      Trade ID     Timestamp  \n",
            "0     True  0.345404  8.950000e+14  1.730000e+12  \n",
            "1     True  0.005600  4.430000e+14  1.730000e+12  \n",
            "2     True  0.050431  6.600000e+14  1.730000e+12  \n",
            "3     True  0.050043  1.080000e+15  1.730000e+12  \n",
            "4     True  0.003055  1.050000e+15  1.730000e+12  \n",
            "\n",
            "Sentiment Data:\n",
            "    timestamp  value classification        date\n",
            "0  1517463000     30           Fear  2018-02-01\n",
            "1  1517549400     15   Extreme Fear  2018-02-02\n",
            "2  1517635800     40           Fear  2018-02-03\n",
            "3  1517722200     24   Extreme Fear  2018-02-04\n",
            "4  1517808600     11   Extreme Fear  2018-02-05\n"
          ]
        }
      ]
    },
    {
      "cell_type": "code",
      "source": [
        "# Convert 'Timestamp IST' in trader data to datetime and extract date only\n",
        "trader_df['Timestamp IST'] = pd.to_datetime(trader_df['Timestamp IST'], format='%d-%m-%Y %H:%M')\n",
        "trader_df['trade_date'] = trader_df['Timestamp IST'].dt.date\n",
        "\n",
        "# Convert 'date' in sentiment data to datetime and extract date only (already clean, but we'll confirm)\n",
        "sentiment_df['date'] = pd.to_datetime(sentiment_df['date'])\n",
        "sentiment_df['sentiment_date'] = sentiment_df['date'].dt.date\n",
        "\n",
        "# Rename 'classification' to 'Sentiment' for clarity\n",
        "sentiment_df.rename(columns={'classification': 'Sentiment'}, inplace=True)\n",
        "\n",
        "# Preview result\n",
        "print(\"✅ Cleaned Trader Data:\")\n",
        "print(trader_df[['Timestamp IST', 'trade_date']].head())\n",
        "\n",
        "print(\"\\n✅ Cleaned Sentiment Data:\")\n",
        "print(sentiment_df[['date', 'Sentiment', 'sentiment_date']].head())\n"
      ],
      "metadata": {
        "colab": {
          "base_uri": "https://localhost:8080/"
        },
        "id": "YGXd-k-oa2-Q",
        "outputId": "73e55c86-fa09-488c-f5ec-77a581656e99"
      },
      "execution_count": 7,
      "outputs": [
        {
          "output_type": "stream",
          "name": "stdout",
          "text": [
            "✅ Cleaned Trader Data:\n",
            "        Timestamp IST  trade_date\n",
            "0 2024-12-02 22:50:00  2024-12-02\n",
            "1 2024-12-02 22:50:00  2024-12-02\n",
            "2 2024-12-02 22:50:00  2024-12-02\n",
            "3 2024-12-02 22:50:00  2024-12-02\n",
            "4 2024-12-02 22:50:00  2024-12-02\n",
            "\n",
            "✅ Cleaned Sentiment Data:\n",
            "        date     Sentiment sentiment_date\n",
            "0 2018-02-01          Fear     2018-02-01\n",
            "1 2018-02-02  Extreme Fear     2018-02-02\n",
            "2 2018-02-03          Fear     2018-02-03\n",
            "3 2018-02-04  Extreme Fear     2018-02-04\n",
            "4 2018-02-05  Extreme Fear     2018-02-05\n"
          ]
        }
      ]
    },
    {
      "cell_type": "code",
      "source": [
        "# Merge on date\n",
        "merged_df = pd.merge(trader_df, sentiment_df, left_on='trade_date', right_on='sentiment_date', how='left')\n",
        "\n",
        "# Show the result\n",
        "print(\"✅ Merged Data:\")\n",
        "print(merged_df[['Timestamp IST', 'trade_date', 'Sentiment', 'Closed PnL']].head())\n"
      ],
      "metadata": {
        "colab": {
          "base_uri": "https://localhost:8080/"
        },
        "id": "NBcJYhHMa-Rp",
        "outputId": "2202c12b-b73e-4cb6-a126-daae4a303095"
      },
      "execution_count": 8,
      "outputs": [
        {
          "output_type": "stream",
          "name": "stdout",
          "text": [
            "✅ Merged Data:\n",
            "        Timestamp IST  trade_date      Sentiment  Closed PnL\n",
            "0 2024-12-02 22:50:00  2024-12-02  Extreme Greed         0.0\n",
            "1 2024-12-02 22:50:00  2024-12-02  Extreme Greed         0.0\n",
            "2 2024-12-02 22:50:00  2024-12-02  Extreme Greed         0.0\n",
            "3 2024-12-02 22:50:00  2024-12-02  Extreme Greed         0.0\n",
            "4 2024-12-02 22:50:00  2024-12-02  Extreme Greed         0.0\n"
          ]
        }
      ]
    },
    {
      "cell_type": "code",
      "source": [
        "import matplotlib.pyplot as plt\n",
        "\n",
        "# Group by sentiment and get average Closed PnL\n",
        "avg_pnl_by_sentiment = merged_df.groupby('Sentiment')['Closed PnL'].mean()\n",
        "\n",
        "# Show result\n",
        "print(\"📊 Average Closed PnL by Sentiment:\")\n",
        "print(avg_pnl_by_sentiment)\n",
        "\n",
        "# Plot it\n",
        "avg_pnl_by_sentiment.plot(kind='bar', color='skyblue', figsize=(8,5), title='Average Closed PnL by Market Sentiment')\n",
        "plt.xlabel(\"Market Sentiment\")\n",
        "plt.ylabel(\"Average Closed PnL\")\n",
        "plt.xticks(rotation=45)\n",
        "plt.grid(True)\n",
        "plt.show()\n"
      ],
      "metadata": {
        "colab": {
          "base_uri": "https://localhost:8080/",
          "height": 696
        },
        "id": "sGrS3TCYbFkW",
        "outputId": "7edc92a4-018f-42cc-9689-6f37851b2a16"
      },
      "execution_count": 9,
      "outputs": [
        {
          "output_type": "stream",
          "name": "stdout",
          "text": [
            "📊 Average Closed PnL by Sentiment:\n",
            "Sentiment\n",
            "Extreme Fear     34.537862\n",
            "Extreme Greed    67.892861\n",
            "Fear             54.290400\n",
            "Greed            42.743559\n",
            "Neutral          34.307718\n",
            "Name: Closed PnL, dtype: float64\n"
          ]
        },
        {
          "output_type": "display_data",
          "data": {
            "text/plain": [
              "<Figure size 800x500 with 1 Axes>"
            ],
            "image/png": "[encoded data removed]"
          },
          "metadata": {}
        }
      ]
    },
    {
      "cell_type": "code",
      "source": [
        "# Define win as Closed PnL > 0\n",
        "merged_df['win'] = merged_df['Closed PnL'] > 0\n",
        "\n",
        "# Win rate = % of winning trades per sentiment\n",
        "win_rate_by_sentiment = merged_df.groupby('Sentiment')['win'].mean() * 100\n",
        "\n",
        "# Show result\n",
        "print(\"🎯 Win Rate by Sentiment (% of profitable trades):\")\n",
        "print(win_rate_by_sentiment.round(2))\n",
        "\n",
        "# Plot\n",
        "win_rate_by_sentiment.plot(kind='bar', color='lightgreen', figsize=(8,5), title='Win Rate by Market Sentiment')\n",
        "plt.ylabel(\"Win Rate (%)\")\n",
        "plt.xticks(rotation=45)\n",
        "plt.grid(True)\n",
        "plt.show()\n"
      ],
      "metadata": {
        "colab": {
          "base_uri": "https://localhost:8080/",
          "height": 696
        },
        "id": "41mwD6UNbYQI",
        "outputId": "42c8cac3-f793-4e74-fda5-338e72a0593a"
      },
      "execution_count": 10,
      "outputs": [
        {
          "output_type": "stream",
          "name": "stdout",
          "text": [
            "🎯 Win Rate by Sentiment (% of profitable trades):\n",
            "Sentiment\n",
            "Extreme Fear     37.06\n",
            "Extreme Greed    46.49\n",
            "Fear             42.08\n",
            "Greed            38.48\n",
            "Neutral          39.70\n",
            "Name: win, dtype: float64\n"
          ]
        },
        {
          "output_type": "display_data",
          "data": {
            "text/plain": [
              "<Figure size 800x500 with 1 Axes>"
            ],
            "image/png": "[encoded data removed]"
          },
          "metadata": {}
        }
      ]
    },
    {
      "cell_type": "code",
      "source": [
        "# Total PnL for each account per sentiment\n",
        "account_sentiment_pnl = merged_df.groupby(['Sentiment', 'Account'])['Closed PnL'].sum()\n",
        "\n",
        "# Reset index and find top 3 per sentiment\n",
        "top_accounts = account_sentiment_pnl.reset_index().sort_values(['Sentiment', 'Closed PnL'], ascending=[True, False])\n",
        "top_3_by_sentiment = top_accounts.groupby('Sentiment').head(3)\n",
        "\n",
        "print(\"🏆 Top 3 Most Profitable Accounts per Sentiment:\")\n",
        "print(top_3_by_sentiment)\n"
      ],
      "metadata": {
        "colab": {
          "base_uri": "https://localhost:8080/"
        },
        "id": "PqD9IVYTbeu_",
        "outputId": "1b3252ed-04c3-41e5-d254-ed127859ac61"
      },
      "execution_count": 11,
      "outputs": [
        {
          "output_type": "stream",
          "name": "stdout",
          "text": [
            "🏆 Top 3 Most Profitable Accounts per Sentiment:\n",
            "         Sentiment                                     Account    Closed PnL\n",
            "29    Extreme Fear  0xbaaaf6571ab7d571043ff1e313a9609a10637864  2.619180e+05\n",
            "16    Extreme Fear  0x72c6a4624e1dffa724e6d00d64ceae698af892a0  1.989006e+05\n",
            "11    Extreme Fear  0x4acb90e786d897ecffb614dc822eb231b4ffb9f4  1.666964e+05\n",
            "59   Extreme Greed  0xb1231a4a2dd02f2276fa3c5e2a2f3436e6bfed23  1.105305e+06\n",
            "61   Extreme Greed  0xbee1707d6b44d4d52bfe19e41f8a828645437aab  4.788115e+05\n",
            "49   Extreme Greed  0x75f7eeb85dc639d5e99c78f95393aa9a5f1170d4  2.107269e+05\n",
            "62            Fear  0x083384f897ee0f19899168e3b1bec365f52a9012  1.113374e+06\n",
            "91            Fear  0xbaaaf6571ab7d571043ff1e313a9609a10637864  6.208724e+05\n",
            "75            Fear  0x513b8629fe877bb581bf244e326a047b249c4ff1  3.671662e+05\n",
            "121          Greed  0xb1231a4a2dd02f2276fa3c5e2a2f3436e6bfed23  5.340582e+05\n",
            "109          Greed  0x72743ae2822edd658c0c50608fd7c5c501b2afbd  4.535953e+05\n",
            "94           Greed  0x083384f897ee0f19899168e3b1bec365f52a9012  2.767193e+05\n",
            "151        Neutral  0xb1231a4a2dd02f2276fa3c5e2a2f3436e6bfed23  4.013094e+05\n",
            "138        Neutral  0x513b8629fe877bb581bf244e326a047b249c4ff1  3.813305e+05\n",
            "125        Neutral  0x083384f897ee0f19899168e3b1bec365f52a9012  1.256501e+05\n"
          ]
        }
      ]
    },
    {
      "cell_type": "markdown",
      "source": [
        "# ✅ Conclusion & Key Insights\n",
        "\n",
        "- The dataset reveals strong trading performance during periods of **Extreme Greed**, aligning with bullish sentiment.\n",
        "- Interestingly, **Extreme Fear** days also show notable average profits, suggesting contrarian opportunities.\n",
        "- **Neutral sentiment** shows lower profitability, possibly indicating indecision or low volatility in market conditions.\n",
        "- This insight can be used to design **sentiment-aware trading strategies** or as a filter for trade risk management.\n",
        "\n",
        "---\n",
        "\n",
        "📌 This analysis shows how integrating psychological market indicators (like Fear & Greed) with real trader behavior can enhance data-driven decision making.\n"
      ],
      "metadata": {
        "id": "m_RbyvXpc9b5"
      }
    }
  ]
}